{
 "cells": [
  {
   "cell_type": "code",
   "execution_count": 1,
   "id": "c8ebc1ed",
   "metadata": {},
   "outputs": [],
   "source": [
    "import pandas as pd\n",
    "import geopandas as gpd\n",
    "import numpy as np"
   ]
  },
  {
   "cell_type": "code",
   "execution_count": 2,
   "id": "3846c288",
   "metadata": {},
   "outputs": [],
   "source": [
    "data = gpd.read_file(\"tl_2020_47_tract.shp\")"
   ]
  },
  {
   "cell_type": "code",
   "execution_count": 3,
   "id": "f83d1411",
   "metadata": {},
   "outputs": [
    {
     "name": "stdout",
     "output_type": "stream",
     "text": [
      "['STATEFP', 'COUNTYFP', 'TRACTCE', 'GEOID', 'NAME', 'NAMELSAD', 'MTFCC', 'FUNCSTAT', 'ALAND', 'AWATER', 'INTPTLAT', 'INTPTLON', 'geometry']\n"
     ]
    }
   ],
   "source": [
    "print(data.columns.tolist())"
   ]
  },
  {
   "cell_type": "code",
   "execution_count": 4,
   "id": "f2a68202",
   "metadata": {},
   "outputs": [
    {
     "data": {
      "text/html": [
       "<div>\n",
       "<style scoped>\n",
       "    .dataframe tbody tr th:only-of-type {\n",
       "        vertical-align: middle;\n",
       "    }\n",
       "\n",
       "    .dataframe tbody tr th {\n",
       "        vertical-align: top;\n",
       "    }\n",
       "\n",
       "    .dataframe thead th {\n",
       "        text-align: right;\n",
       "    }\n",
       "</style>\n",
       "<table border=\"1\" class=\"dataframe\">\n",
       "  <thead>\n",
       "    <tr style=\"text-align: right;\">\n",
       "      <th></th>\n",
       "      <th>STATEFP</th>\n",
       "      <th>COUNTYFP</th>\n",
       "      <th>TRACTCE</th>\n",
       "      <th>GEOID</th>\n",
       "      <th>NAME</th>\n",
       "      <th>NAMELSAD</th>\n",
       "      <th>MTFCC</th>\n",
       "      <th>FUNCSTAT</th>\n",
       "      <th>ALAND</th>\n",
       "      <th>AWATER</th>\n",
       "      <th>INTPTLAT</th>\n",
       "      <th>INTPTLON</th>\n",
       "      <th>geometry</th>\n",
       "    </tr>\n",
       "  </thead>\n",
       "  <tbody>\n",
       "    <tr>\n",
       "      <th>0</th>\n",
       "      <td>47</td>\n",
       "      <td>175</td>\n",
       "      <td>925200</td>\n",
       "      <td>47175925200</td>\n",
       "      <td>9252</td>\n",
       "      <td>Census Tract 9252</td>\n",
       "      <td>G5020</td>\n",
       "      <td>S</td>\n",
       "      <td>227429512</td>\n",
       "      <td>1667739</td>\n",
       "      <td>+35.7438100</td>\n",
       "      <td>-085.4940227</td>\n",
       "      <td>POLYGON ((-85.61516 35.76106, -85.61509 35.761...</td>\n",
       "    </tr>\n",
       "    <tr>\n",
       "      <th>1</th>\n",
       "      <td>47</td>\n",
       "      <td>175</td>\n",
       "      <td>925000</td>\n",
       "      <td>47175925000</td>\n",
       "      <td>9250</td>\n",
       "      <td>Census Tract 9250</td>\n",
       "      <td>G5020</td>\n",
       "      <td>S</td>\n",
       "      <td>480712883</td>\n",
       "      <td>1225717</td>\n",
       "      <td>+35.6695378</td>\n",
       "      <td>-085.4220628</td>\n",
       "      <td>POLYGON ((-85.60513 35.70854, -85.60511 35.708...</td>\n",
       "    </tr>\n",
       "    <tr>\n",
       "      <th>2</th>\n",
       "      <td>47</td>\n",
       "      <td>003</td>\n",
       "      <td>950201</td>\n",
       "      <td>47003950201</td>\n",
       "      <td>9502.01</td>\n",
       "      <td>Census Tract 9502.01</td>\n",
       "      <td>G5020</td>\n",
       "      <td>S</td>\n",
       "      <td>121774227</td>\n",
       "      <td>0</td>\n",
       "      <td>+35.6517480</td>\n",
       "      <td>-086.5575518</td>\n",
       "      <td>POLYGON ((-86.64406 35.64029, -86.64375 35.642...</td>\n",
       "    </tr>\n",
       "    <tr>\n",
       "      <th>3</th>\n",
       "      <td>47</td>\n",
       "      <td>003</td>\n",
       "      <td>950202</td>\n",
       "      <td>47003950202</td>\n",
       "      <td>9502.02</td>\n",
       "      <td>Census Tract 9502.02</td>\n",
       "      <td>G5020</td>\n",
       "      <td>S</td>\n",
       "      <td>110617191</td>\n",
       "      <td>700793</td>\n",
       "      <td>+35.5845755</td>\n",
       "      <td>-086.5790796</td>\n",
       "      <td>POLYGON ((-86.66377 35.58189, -86.66367 35.582...</td>\n",
       "    </tr>\n",
       "    <tr>\n",
       "      <th>4</th>\n",
       "      <td>47</td>\n",
       "      <td>093</td>\n",
       "      <td>003300</td>\n",
       "      <td>47093003300</td>\n",
       "      <td>33</td>\n",
       "      <td>Census Tract 33</td>\n",
       "      <td>G5020</td>\n",
       "      <td>S</td>\n",
       "      <td>5860088</td>\n",
       "      <td>229299</td>\n",
       "      <td>+36.0020586</td>\n",
       "      <td>-083.8371218</td>\n",
       "      <td>POLYGON ((-83.86208 35.99255, -83.86207 35.992...</td>\n",
       "    </tr>\n",
       "  </tbody>\n",
       "</table>\n",
       "</div>"
      ],
      "text/plain": [
       "  STATEFP COUNTYFP TRACTCE        GEOID     NAME              NAMELSAD  MTFCC  \\\n",
       "0      47      175  925200  47175925200     9252     Census Tract 9252  G5020   \n",
       "1      47      175  925000  47175925000     9250     Census Tract 9250  G5020   \n",
       "2      47      003  950201  47003950201  9502.01  Census Tract 9502.01  G5020   \n",
       "3      47      003  950202  47003950202  9502.02  Census Tract 9502.02  G5020   \n",
       "4      47      093  003300  47093003300       33       Census Tract 33  G5020   \n",
       "\n",
       "  FUNCSTAT      ALAND   AWATER     INTPTLAT      INTPTLON  \\\n",
       "0        S  227429512  1667739  +35.7438100  -085.4940227   \n",
       "1        S  480712883  1225717  +35.6695378  -085.4220628   \n",
       "2        S  121774227        0  +35.6517480  -086.5575518   \n",
       "3        S  110617191   700793  +35.5845755  -086.5790796   \n",
       "4        S    5860088   229299  +36.0020586  -083.8371218   \n",
       "\n",
       "                                            geometry  \n",
       "0  POLYGON ((-85.61516 35.76106, -85.61509 35.761...  \n",
       "1  POLYGON ((-85.60513 35.70854, -85.60511 35.708...  \n",
       "2  POLYGON ((-86.64406 35.64029, -86.64375 35.642...  \n",
       "3  POLYGON ((-86.66377 35.58189, -86.66367 35.582...  \n",
       "4  POLYGON ((-83.86208 35.99255, -83.86207 35.992...  "
      ]
     },
     "execution_count": 4,
     "metadata": {},
     "output_type": "execute_result"
    }
   ],
   "source": [
    "data.head()"
   ]
  },
  {
   "cell_type": "code",
   "execution_count": 5,
   "id": "9b3f329b",
   "metadata": {},
   "outputs": [
    {
     "name": "stdout",
     "output_type": "stream",
     "text": [
      "STATEFP       object\n",
      "COUNTYFP      object\n",
      "TRACTCE       object\n",
      "GEOID         object\n",
      "NAME          object\n",
      "NAMELSAD      object\n",
      "MTFCC         object\n",
      "FUNCSTAT      object\n",
      "ALAND          int64\n",
      "AWATER         int64\n",
      "INTPTLAT      object\n",
      "INTPTLON      object\n",
      "geometry    geometry\n",
      "dtype: object\n",
      "<class 'geopandas.geodataframe.GeoDataFrame'>\n",
      "RangeIndex: 1701 entries, 0 to 1700\n",
      "Data columns (total 13 columns):\n",
      " #   Column    Non-Null Count  Dtype   \n",
      "---  ------    --------------  -----   \n",
      " 0   STATEFP   1701 non-null   object  \n",
      " 1   COUNTYFP  1701 non-null   object  \n",
      " 2   TRACTCE   1701 non-null   object  \n",
      " 3   GEOID     1701 non-null   object  \n",
      " 4   NAME      1701 non-null   object  \n",
      " 5   NAMELSAD  1701 non-null   object  \n",
      " 6   MTFCC     1701 non-null   object  \n",
      " 7   FUNCSTAT  1701 non-null   object  \n",
      " 8   ALAND     1701 non-null   int64   \n",
      " 9   AWATER    1701 non-null   int64   \n",
      " 10  INTPTLAT  1701 non-null   object  \n",
      " 11  INTPTLON  1701 non-null   object  \n",
      " 12  geometry  1701 non-null   geometry\n",
      "dtypes: geometry(1), int64(2), object(10)\n",
      "memory usage: 172.9+ KB\n",
      "None\n"
     ]
    }
   ],
   "source": [
    "print(data.dtypes)\n",
    "print(data.info())"
   ]
  },
  {
   "cell_type": "code",
   "execution_count": 6,
   "id": "a2900481",
   "metadata": {},
   "outputs": [],
   "source": [
    "census = pd.read_csv('census.csv')"
   ]
  },
  {
   "cell_type": "code",
   "execution_count": 7,
   "id": "f340a7f4",
   "metadata": {},
   "outputs": [
    {
     "name": "stdout",
     "output_type": "stream",
     "text": [
      "['GEOID', 'NAME', 'Households', '<10k', 'Median', 'Mean', 'Desert']\n"
     ]
    }
   ],
   "source": [
    "print(census.columns.tolist())"
   ]
  },
  {
   "cell_type": "code",
   "execution_count": 8,
   "id": "5b4c379f",
   "metadata": {},
   "outputs": [
    {
     "name": "stdout",
     "output_type": "stream",
     "text": [
      "GEOID           int64\n",
      "NAME          float64\n",
      "Households      int64\n",
      "<10k          float64\n",
      "Median         object\n",
      "Mean            int64\n",
      "Desert           bool\n",
      "dtype: object\n",
      "<class 'pandas.core.frame.DataFrame'>\n",
      "RangeIndex: 171 entries, 0 to 170\n",
      "Data columns (total 7 columns):\n",
      " #   Column      Non-Null Count  Dtype  \n",
      "---  ------      --------------  -----  \n",
      " 0   GEOID       171 non-null    int64  \n",
      " 1   NAME        171 non-null    float64\n",
      " 2   Households  171 non-null    int64  \n",
      " 3   <10k        171 non-null    float64\n",
      " 4   Median      171 non-null    object \n",
      " 5   Mean        171 non-null    int64  \n",
      " 6   Desert      171 non-null    bool   \n",
      "dtypes: bool(1), float64(2), int64(3), object(1)\n",
      "memory usage: 8.3+ KB\n",
      "None\n"
     ]
    }
   ],
   "source": [
    "print(census.dtypes)\n",
    "print(census.info())"
   ]
  },
  {
   "cell_type": "code",
   "execution_count": 9,
   "id": "cdc340c2",
   "metadata": {},
   "outputs": [
    {
     "ename": "NameError",
     "evalue": "name 'int64' is not defined",
     "output_type": "error",
     "traceback": [
      "\u001b[1;31m---------------------------------------------------------------------------\u001b[0m",
      "\u001b[1;31mNameError\u001b[0m                                 Traceback (most recent call last)",
      "Cell \u001b[1;32mIn[9], line 1\u001b[0m\n\u001b[1;32m----> 1\u001b[0m data[\u001b[38;5;124m'\u001b[39m\u001b[38;5;124mGEOID\u001b[39m\u001b[38;5;124m'\u001b[39m] \u001b[38;5;241m=\u001b[39m data[\u001b[38;5;124m'\u001b[39m\u001b[38;5;124mGEOID\u001b[39m\u001b[38;5;124m'\u001b[39m]\u001b[38;5;241m.\u001b[39mastype(int64)\n",
      "\u001b[1;31mNameError\u001b[0m: name 'int64' is not defined"
     ]
    }
   ],
   "source": [
    "data['GEOID'] = data['GEOID'].astype(np.int64)"
   ]
  },
  {
   "cell_type": "code",
   "execution_count": null,
   "id": "3bb210f9",
   "metadata": {},
   "outputs": [],
   "source": [
    "census.head()"
   ]
  },
  {
   "cell_type": "code",
   "execution_count": null,
   "id": "b92d6923",
   "metadata": {},
   "outputs": [],
   "source": [
    "#keepers = ['GEOID', 'NAME', 'geometry']\n",
    "#data = pd.DataFrame(data, columns= keepers)\n",
    "#data = df.rename(columns={\"NAME\":\"Tract\", \"geometry\":\"Geometry\"})\n",
    "#data.head()"
   ]
  },
  {
   "cell_type": "code",
   "execution_count": null,
   "id": "18811431",
   "metadata": {},
   "outputs": [],
   "source": [
    "df = pd.merge(data, census, on='NAME')"
   ]
  },
  {
   "cell_type": "code",
   "execution_count": null,
   "id": "2db1aba9",
   "metadata": {},
   "outputs": [],
   "source": [
    "df"
   ]
  },
  {
   "cell_type": "code",
   "execution_count": null,
   "id": "06183051",
   "metadata": {},
   "outputs": [],
   "source": [
    "output_file = 'map.geojson'\n",
    "data.to_file(output_file, driver='GeoJSON')"
   ]
  }
 ],
 "metadata": {
  "kernelspec": {
   "display_name": "Python 3 (ipykernel)",
   "language": "python",
   "name": "python3"
  },
  "language_info": {
   "codemirror_mode": {
    "name": "ipython",
    "version": 3
   },
   "file_extension": ".py",
   "mimetype": "text/x-python",
   "name": "python",
   "nbconvert_exporter": "python",
   "pygments_lexer": "ipython3",
   "version": "3.11.5"
  }
 },
 "nbformat": 4,
 "nbformat_minor": 5
}
